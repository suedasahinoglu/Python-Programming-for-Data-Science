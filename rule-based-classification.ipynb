{
 "cells": [
  {
   "cell_type": "markdown",
   "id": "9a74506f",
   "metadata": {
    "papermill": {
     "duration": 0.018521,
     "end_time": "2024-09-05T12:36:16.354234",
     "exception": false,
     "start_time": "2024-09-05T12:36:16.335713",
     "status": "completed"
    },
    "tags": []
   },
   "source": [
    "# **Kural Tabanlı Sınıflandırma ile Potansiyel Müşteri Getirisi Hesaplama**"
   ]
  },
  {
   "cell_type": "markdown",
   "id": "d2fda56f",
   "metadata": {
    "papermill": {
     "duration": 0.018042,
     "end_time": "2024-09-05T12:36:16.391799",
     "exception": false,
     "start_time": "2024-09-05T12:36:16.373757",
     "status": "completed"
    },
    "tags": []
   },
   "source": [
    "## **İş Problemi**\n",
    "#### Bir oyun şirketi müşterilerinin  bazı özelliklerini kullanarak seviye tabanlı (level based) yeni müşteri tanımları (persona) oluşturmak ve bu yeni müşteri tanımlarına göre segmentler oluşturup bu segmentlere göre yeni gelebilecek müşterilerin şirkete ortalama ne kadar kazandırabileceğini tahmin etmek istemektedir.\n",
    "#### **Örneğin**\n",
    "#### Türkiye'den IOS kullanıcısı olan 25 yaşındaki bir erkek kullanıcının ortalama ne kadar kazandırabileceği belirlenmek isteniyor."
   ]
  },
  {
   "cell_type": "markdown",
   "id": "2d124123",
   "metadata": {
    "papermill": {
     "duration": 0.019535,
     "end_time": "2024-09-05T12:36:16.429161",
     "exception": false,
     "start_time": "2024-09-05T12:36:16.409626",
     "status": "completed"
    },
    "tags": []
   },
   "source": [
    "## **Veri Seti Hikayesi**\n",
    "#### **Persona.csv** veri seti uluslararası bir oyun şirketinin sattığı ürünlerin fiyatlarını ve bu ürünleri satın alan kullanıcıların bazı demografik bilgilerini barındırmaktadır. Veri seti her satış işleminde oluşan kayıtlardan meydana gelmektedir. Bunun anlamı tablo tekilleştirilmemiştir. Diğer bir ifade ile belirli demografik özelliklere sahip bir kullanıcı birden fazla alışveriş yapmış olabilir."
   ]
  },
  {
   "cell_type": "markdown",
   "id": "fa67c286",
   "metadata": {
    "papermill": {
     "duration": 0.017364,
     "end_time": "2024-09-05T12:36:16.464839",
     "exception": false,
     "start_time": "2024-09-05T12:36:16.447475",
     "status": "completed"
    },
    "tags": []
   },
   "source": [
    "## **Değişkenler**\n",
    "#### **PRICE** - Müşterinin harcama tutarı\n",
    "#### **SOURCE** - Müşterinin bağlandığı cihaz türü\n",
    "#### **SEX** - Müşterinin cinsiyeti\n",
    "#### **COUNTRY** - Müşterinin ülkesi\n",
    "#### **AGE** - Müşterinin yaşı"
   ]
  },
  {
   "cell_type": "markdown",
   "id": "cb1a85c7",
   "metadata": {
    "papermill": {
     "duration": 0.017218,
     "end_time": "2024-09-05T12:36:16.498971",
     "exception": false,
     "start_time": "2024-09-05T12:36:16.481753",
     "status": "completed"
    },
    "tags": []
   },
   "source": [
    "### **Uygulama Öncesi Veri Seti:**"
   ]
  },
  {
   "cell_type": "markdown",
   "id": "cd17b25d",
   "metadata": {
    "papermill": {
     "duration": 0.0169,
     "end_time": "2024-09-05T12:36:16.533187",
     "exception": false,
     "start_time": "2024-09-05T12:36:16.516287",
     "status": "completed"
    },
    "tags": []
   },
   "source": [
    "| PRICE   | SOURCE   | SEX   | COUNTRY   | AGE   |\n",
    "|------------|------------|------------|------------|------------|\n",
    "| 39 | android | male | bra | 17 |\n",
    "| 39 | android | male | bra | 17 |\n",
    "| 49 | android | male | bra | 17 |\n",
    "| 29 | android | male | tur | 17 |\n",
    "| 49 | android | male | tur | 17 |\n"
   ]
  },
  {
   "cell_type": "markdown",
   "id": "8a747911",
   "metadata": {
    "papermill": {
     "duration": 0.017442,
     "end_time": "2024-09-05T12:36:16.568238",
     "exception": false,
     "start_time": "2024-09-05T12:36:16.550796",
     "status": "completed"
    },
    "tags": []
   },
   "source": [
    "### **Hedeflenen Çıktı:**"
   ]
  },
  {
   "cell_type": "markdown",
   "id": "18d81ebe",
   "metadata": {
    "papermill": {
     "duration": 0.016899,
     "end_time": "2024-09-05T12:36:16.602984",
     "exception": false,
     "start_time": "2024-09-05T12:36:16.586085",
     "status": "completed"
    },
    "tags": []
   },
   "source": [
    "| costumers_level_based   | PRICE   | SEGMENT   |\n",
    "|------------|------------|------------|\n",
    "| BRA_ANDROID_FEMALE_0_18 | 35.6453 | B |\n",
    "| BRA_ANDROID_FEMALE_19_23 | 34.0773 | C |\n",
    "| BRA_ANDROID_FEMALE_24_30 | 33.8639 | C |\n",
    "| BRA_ANDROID_FEMALE_31_40 | 34.8983 | B |\n",
    "| BRA_ANDROID_FEMALE_41_66 | 36.7371 | A |\n"
   ]
  },
  {
   "cell_type": "markdown",
   "id": "e315ab78",
   "metadata": {
    "papermill": {
     "duration": 0.01686,
     "end_time": "2024-09-05T12:36:16.637923",
     "exception": false,
     "start_time": "2024-09-05T12:36:16.621063",
     "status": "completed"
    },
    "tags": []
   },
   "source": [
    "## **GÖREV-1:**  Aşağıdaki Soruları Yanıtlayınız"
   ]
  },
  {
   "cell_type": "markdown",
   "id": "b8f308a1",
   "metadata": {
    "papermill": {
     "duration": 0.016723,
     "end_time": "2024-09-05T12:36:16.672427",
     "exception": false,
     "start_time": "2024-09-05T12:36:16.655704",
     "status": "completed"
    },
    "tags": []
   },
   "source": [
    "#### **1-** persona.csv dosyasını okutunuz ve veri seti ile ilgili genel bilgileri gösteriniz."
   ]
  },
  {
   "cell_type": "code",
   "execution_count": 1,
   "id": "79f3c18b",
   "metadata": {
    "execution": {
     "iopub.execute_input": "2024-09-05T12:36:16.711053Z",
     "iopub.status.busy": "2024-09-05T12:36:16.710357Z",
     "iopub.status.idle": "2024-09-05T12:36:17.246932Z",
     "shell.execute_reply": "2024-09-05T12:36:17.245569Z"
    },
    "papermill": {
     "duration": 0.55998,
     "end_time": "2024-09-05T12:36:17.249855",
     "exception": false,
     "start_time": "2024-09-05T12:36:16.689875",
     "status": "completed"
    },
    "tags": []
   },
   "outputs": [
    {
     "data": {
      "text/html": [
       "<div>\n",
       "<style scoped>\n",
       "    .dataframe tbody tr th:only-of-type {\n",
       "        vertical-align: middle;\n",
       "    }\n",
       "\n",
       "    .dataframe tbody tr th {\n",
       "        vertical-align: top;\n",
       "    }\n",
       "\n",
       "    .dataframe thead th {\n",
       "        text-align: right;\n",
       "    }\n",
       "</style>\n",
       "<table border=\"1\" class=\"dataframe\">\n",
       "  <thead>\n",
       "    <tr style=\"text-align: right;\">\n",
       "      <th></th>\n",
       "      <th>PRICE</th>\n",
       "      <th>SOURCE</th>\n",
       "      <th>SEX</th>\n",
       "      <th>COUNTRY</th>\n",
       "      <th>AGE</th>\n",
       "    </tr>\n",
       "  </thead>\n",
       "  <tbody>\n",
       "    <tr>\n",
       "      <th>0</th>\n",
       "      <td>39</td>\n",
       "      <td>android</td>\n",
       "      <td>male</td>\n",
       "      <td>bra</td>\n",
       "      <td>17</td>\n",
       "    </tr>\n",
       "    <tr>\n",
       "      <th>1</th>\n",
       "      <td>39</td>\n",
       "      <td>android</td>\n",
       "      <td>male</td>\n",
       "      <td>bra</td>\n",
       "      <td>17</td>\n",
       "    </tr>\n",
       "    <tr>\n",
       "      <th>2</th>\n",
       "      <td>49</td>\n",
       "      <td>android</td>\n",
       "      <td>male</td>\n",
       "      <td>bra</td>\n",
       "      <td>17</td>\n",
       "    </tr>\n",
       "    <tr>\n",
       "      <th>3</th>\n",
       "      <td>29</td>\n",
       "      <td>android</td>\n",
       "      <td>male</td>\n",
       "      <td>tur</td>\n",
       "      <td>17</td>\n",
       "    </tr>\n",
       "    <tr>\n",
       "      <th>4</th>\n",
       "      <td>49</td>\n",
       "      <td>android</td>\n",
       "      <td>male</td>\n",
       "      <td>tur</td>\n",
       "      <td>17</td>\n",
       "    </tr>\n",
       "  </tbody>\n",
       "</table>\n",
       "</div>"
      ],
      "text/plain": [
       "   PRICE   SOURCE   SEX COUNTRY  AGE\n",
       "0     39  android  male     bra   17\n",
       "1     39  android  male     bra   17\n",
       "2     49  android  male     bra   17\n",
       "3     29  android  male     tur   17\n",
       "4     49  android  male     tur   17"
      ]
     },
     "execution_count": 1,
     "metadata": {},
     "output_type": "execute_result"
    }
   ],
   "source": [
    "import pandas as pd\n",
    "pd.set_option('display.max_rows', None)\n",
    "df = pd.read_csv(\"/kaggle/input/persona-csv/persona.csv\")\n",
    "df.head()"
   ]
  },
  {
   "cell_type": "code",
   "execution_count": 2,
   "id": "ae627ab1",
   "metadata": {
    "execution": {
     "iopub.execute_input": "2024-09-05T12:36:17.287460Z",
     "iopub.status.busy": "2024-09-05T12:36:17.286973Z",
     "iopub.status.idle": "2024-09-05T12:36:17.295949Z",
     "shell.execute_reply": "2024-09-05T12:36:17.294209Z"
    },
    "papermill": {
     "duration": 0.030998,
     "end_time": "2024-09-05T12:36:17.298876",
     "exception": false,
     "start_time": "2024-09-05T12:36:17.267878",
     "status": "completed"
    },
    "tags": []
   },
   "outputs": [
    {
     "data": {
      "text/plain": [
       "(5000, 5)"
      ]
     },
     "execution_count": 2,
     "metadata": {},
     "output_type": "execute_result"
    }
   ],
   "source": [
    "df.shape"
   ]
  },
  {
   "cell_type": "code",
   "execution_count": 3,
   "id": "4ff2f640",
   "metadata": {
    "execution": {
     "iopub.execute_input": "2024-09-05T12:36:17.337194Z",
     "iopub.status.busy": "2024-09-05T12:36:17.336747Z",
     "iopub.status.idle": "2024-09-05T12:36:17.365467Z",
     "shell.execute_reply": "2024-09-05T12:36:17.363746Z"
    },
    "papermill": {
     "duration": 0.050583,
     "end_time": "2024-09-05T12:36:17.368351",
     "exception": false,
     "start_time": "2024-09-05T12:36:17.317768",
     "status": "completed"
    },
    "tags": []
   },
   "outputs": [
    {
     "name": "stdout",
     "output_type": "stream",
     "text": [
      "<class 'pandas.core.frame.DataFrame'>\n",
      "Index: 5000 entries, 0 to 4999\n",
      "Data columns (total 5 columns):\n",
      " #   Column   Non-Null Count  Dtype \n",
      "---  ------   --------------  ----- \n",
      " 0   PRICE    5000 non-null   int64 \n",
      " 1   SOURCE   5000 non-null   object\n",
      " 2   SEX      5000 non-null   object\n",
      " 3   COUNTRY  5000 non-null   object\n",
      " 4   AGE      5000 non-null   int64 \n",
      "dtypes: int64(2), object(3)\n",
      "memory usage: 234.4+ KB\n"
     ]
    }
   ],
   "source": [
    "df.info()"
   ]
  },
  {
   "cell_type": "markdown",
   "id": "6dfaa355",
   "metadata": {
    "papermill": {
     "duration": 0.017338,
     "end_time": "2024-09-05T12:36:17.403128",
     "exception": false,
     "start_time": "2024-09-05T12:36:17.385790",
     "status": "completed"
    },
    "tags": []
   },
   "source": [
    "#### **2-** Kaç unique SOURCE vardır? Frekansları nedir?"
   ]
  },
  {
   "cell_type": "code",
   "execution_count": 4,
   "id": "a479a195",
   "metadata": {
    "execution": {
     "iopub.execute_input": "2024-09-05T12:36:17.443028Z",
     "iopub.status.busy": "2024-09-05T12:36:17.442601Z",
     "iopub.status.idle": "2024-09-05T12:36:17.451851Z",
     "shell.execute_reply": "2024-09-05T12:36:17.450604Z"
    },
    "papermill": {
     "duration": 0.033444,
     "end_time": "2024-09-05T12:36:17.454427",
     "exception": false,
     "start_time": "2024-09-05T12:36:17.420983",
     "status": "completed"
    },
    "tags": []
   },
   "outputs": [
    {
     "data": {
      "text/plain": [
       "2"
      ]
     },
     "execution_count": 4,
     "metadata": {},
     "output_type": "execute_result"
    }
   ],
   "source": [
    "df[\"SOURCE\"].nunique()"
   ]
  },
  {
   "cell_type": "code",
   "execution_count": 5,
   "id": "96bad2aa",
   "metadata": {
    "execution": {
     "iopub.execute_input": "2024-09-05T12:36:17.494121Z",
     "iopub.status.busy": "2024-09-05T12:36:17.493670Z",
     "iopub.status.idle": "2024-09-05T12:36:17.505527Z",
     "shell.execute_reply": "2024-09-05T12:36:17.504049Z"
    },
    "papermill": {
     "duration": 0.03508,
     "end_time": "2024-09-05T12:36:17.508105",
     "exception": false,
     "start_time": "2024-09-05T12:36:17.473025",
     "status": "completed"
    },
    "tags": []
   },
   "outputs": [
    {
     "data": {
      "text/plain": [
       "SOURCE\n",
       "android    2974\n",
       "ios        2026\n",
       "Name: count, dtype: int64"
      ]
     },
     "execution_count": 5,
     "metadata": {},
     "output_type": "execute_result"
    }
   ],
   "source": [
    "df[\"SOURCE\"].value_counts()"
   ]
  },
  {
   "cell_type": "markdown",
   "id": "a66456c3",
   "metadata": {
    "papermill": {
     "duration": 0.017273,
     "end_time": "2024-09-05T12:36:17.543709",
     "exception": false,
     "start_time": "2024-09-05T12:36:17.526436",
     "status": "completed"
    },
    "tags": []
   },
   "source": [
    "#### **3-** Kaç unique PRICE vardır?"
   ]
  },
  {
   "cell_type": "code",
   "execution_count": 6,
   "id": "83cac36e",
   "metadata": {
    "execution": {
     "iopub.execute_input": "2024-09-05T12:36:17.581573Z",
     "iopub.status.busy": "2024-09-05T12:36:17.581104Z",
     "iopub.status.idle": "2024-09-05T12:36:17.591370Z",
     "shell.execute_reply": "2024-09-05T12:36:17.590063Z"
    },
    "papermill": {
     "duration": 0.033098,
     "end_time": "2024-09-05T12:36:17.594397",
     "exception": false,
     "start_time": "2024-09-05T12:36:17.561299",
     "status": "completed"
    },
    "tags": []
   },
   "outputs": [
    {
     "data": {
      "text/plain": [
       "6"
      ]
     },
     "execution_count": 6,
     "metadata": {},
     "output_type": "execute_result"
    }
   ],
   "source": [
    "df[\"PRICE\"].nunique()"
   ]
  },
  {
   "cell_type": "markdown",
   "id": "122add2b",
   "metadata": {
    "papermill": {
     "duration": 0.017519,
     "end_time": "2024-09-05T12:36:17.630115",
     "exception": false,
     "start_time": "2024-09-05T12:36:17.612596",
     "status": "completed"
    },
    "tags": []
   },
   "source": [
    "#### **4-** Hangi PRICE'dan kaçar tane satış gerçekleşmiştir?"
   ]
  },
  {
   "cell_type": "code",
   "execution_count": 7,
   "id": "d0ec1701",
   "metadata": {
    "execution": {
     "iopub.execute_input": "2024-09-05T12:36:17.668089Z",
     "iopub.status.busy": "2024-09-05T12:36:17.667623Z",
     "iopub.status.idle": "2024-09-05T12:36:17.679516Z",
     "shell.execute_reply": "2024-09-05T12:36:17.678202Z"
    },
    "papermill": {
     "duration": 0.034074,
     "end_time": "2024-09-05T12:36:17.682492",
     "exception": false,
     "start_time": "2024-09-05T12:36:17.648418",
     "status": "completed"
    },
    "tags": []
   },
   "outputs": [
    {
     "data": {
      "text/plain": [
       "PRICE\n",
       "29    1305\n",
       "39    1260\n",
       "49    1031\n",
       "19     992\n",
       "59     212\n",
       "9      200\n",
       "Name: count, dtype: int64"
      ]
     },
     "execution_count": 7,
     "metadata": {},
     "output_type": "execute_result"
    }
   ],
   "source": [
    "df[\"PRICE\"].value_counts()"
   ]
  },
  {
   "cell_type": "markdown",
   "id": "b416fc97",
   "metadata": {
    "papermill": {
     "duration": 0.018488,
     "end_time": "2024-09-05T12:36:17.719374",
     "exception": false,
     "start_time": "2024-09-05T12:36:17.700886",
     "status": "completed"
    },
    "tags": []
   },
   "source": [
    "#### **5-** Hangi ülkeden kaçar tane satış olmuştur?"
   ]
  },
  {
   "cell_type": "code",
   "execution_count": 8,
   "id": "f47efad7",
   "metadata": {
    "execution": {
     "iopub.execute_input": "2024-09-05T12:36:17.759390Z",
     "iopub.status.busy": "2024-09-05T12:36:17.758948Z",
     "iopub.status.idle": "2024-09-05T12:36:17.771083Z",
     "shell.execute_reply": "2024-09-05T12:36:17.769353Z"
    },
    "papermill": {
     "duration": 0.035373,
     "end_time": "2024-09-05T12:36:17.773866",
     "exception": false,
     "start_time": "2024-09-05T12:36:17.738493",
     "status": "completed"
    },
    "tags": []
   },
   "outputs": [
    {
     "data": {
      "text/plain": [
       "COUNTRY\n",
       "bra    1496\n",
       "can     230\n",
       "deu     455\n",
       "fra     303\n",
       "tur     451\n",
       "usa    2065\n",
       "Name: PRICE, dtype: int64"
      ]
     },
     "execution_count": 8,
     "metadata": {},
     "output_type": "execute_result"
    }
   ],
   "source": [
    "df.groupby(\"COUNTRY\")[\"PRICE\"].count()"
   ]
  },
  {
   "cell_type": "markdown",
   "id": "13d07947",
   "metadata": {
    "papermill": {
     "duration": 0.018509,
     "end_time": "2024-09-05T12:36:17.811129",
     "exception": false,
     "start_time": "2024-09-05T12:36:17.792620",
     "status": "completed"
    },
    "tags": []
   },
   "source": [
    "#### **6-** Ülkelere göre satışlardan toplam ne kadar kazanılmıştır?"
   ]
  },
  {
   "cell_type": "code",
   "execution_count": 9,
   "id": "fc76b8b9",
   "metadata": {
    "execution": {
     "iopub.execute_input": "2024-09-05T12:36:17.850230Z",
     "iopub.status.busy": "2024-09-05T12:36:17.849816Z",
     "iopub.status.idle": "2024-09-05T12:36:17.865308Z",
     "shell.execute_reply": "2024-09-05T12:36:17.863928Z"
    },
    "papermill": {
     "duration": 0.03798,
     "end_time": "2024-09-05T12:36:17.868003",
     "exception": false,
     "start_time": "2024-09-05T12:36:17.830023",
     "status": "completed"
    },
    "tags": []
   },
   "outputs": [
    {
     "data": {
      "text/html": [
       "<div>\n",
       "<style scoped>\n",
       "    .dataframe tbody tr th:only-of-type {\n",
       "        vertical-align: middle;\n",
       "    }\n",
       "\n",
       "    .dataframe tbody tr th {\n",
       "        vertical-align: top;\n",
       "    }\n",
       "\n",
       "    .dataframe thead th {\n",
       "        text-align: right;\n",
       "    }\n",
       "</style>\n",
       "<table border=\"1\" class=\"dataframe\">\n",
       "  <thead>\n",
       "    <tr style=\"text-align: right;\">\n",
       "      <th></th>\n",
       "      <th>PRICE</th>\n",
       "    </tr>\n",
       "    <tr>\n",
       "      <th>COUNTRY</th>\n",
       "      <th></th>\n",
       "    </tr>\n",
       "  </thead>\n",
       "  <tbody>\n",
       "    <tr>\n",
       "      <th>bra</th>\n",
       "      <td>51354</td>\n",
       "    </tr>\n",
       "    <tr>\n",
       "      <th>can</th>\n",
       "      <td>7730</td>\n",
       "    </tr>\n",
       "    <tr>\n",
       "      <th>deu</th>\n",
       "      <td>15485</td>\n",
       "    </tr>\n",
       "    <tr>\n",
       "      <th>fra</th>\n",
       "      <td>10177</td>\n",
       "    </tr>\n",
       "    <tr>\n",
       "      <th>tur</th>\n",
       "      <td>15689</td>\n",
       "    </tr>\n",
       "    <tr>\n",
       "      <th>usa</th>\n",
       "      <td>70225</td>\n",
       "    </tr>\n",
       "  </tbody>\n",
       "</table>\n",
       "</div>"
      ],
      "text/plain": [
       "         PRICE\n",
       "COUNTRY       \n",
       "bra      51354\n",
       "can       7730\n",
       "deu      15485\n",
       "fra      10177\n",
       "tur      15689\n",
       "usa      70225"
      ]
     },
     "execution_count": 9,
     "metadata": {},
     "output_type": "execute_result"
    }
   ],
   "source": [
    "df.groupby(\"COUNTRY\").agg({\"PRICE\": \"sum\"})"
   ]
  },
  {
   "cell_type": "markdown",
   "id": "66abd93e",
   "metadata": {
    "papermill": {
     "duration": 0.018635,
     "end_time": "2024-09-05T12:36:17.905496",
     "exception": false,
     "start_time": "2024-09-05T12:36:17.886861",
     "status": "completed"
    },
    "tags": []
   },
   "source": [
    "#### **7-** SOURCE türlerine göre satış sayıları nedir?"
   ]
  },
  {
   "cell_type": "code",
   "execution_count": 10,
   "id": "47235687",
   "metadata": {
    "execution": {
     "iopub.execute_input": "2024-09-05T12:36:17.945007Z",
     "iopub.status.busy": "2024-09-05T12:36:17.944505Z",
     "iopub.status.idle": "2024-09-05T12:36:17.955078Z",
     "shell.execute_reply": "2024-09-05T12:36:17.953807Z"
    },
    "papermill": {
     "duration": 0.033976,
     "end_time": "2024-09-05T12:36:17.957909",
     "exception": false,
     "start_time": "2024-09-05T12:36:17.923933",
     "status": "completed"
    },
    "tags": []
   },
   "outputs": [
    {
     "data": {
      "text/plain": [
       "SOURCE\n",
       "android    2974\n",
       "ios        2026\n",
       "Name: count, dtype: int64"
      ]
     },
     "execution_count": 10,
     "metadata": {},
     "output_type": "execute_result"
    }
   ],
   "source": [
    "df[\"SOURCE\"].value_counts()"
   ]
  },
  {
   "cell_type": "code",
   "execution_count": 11,
   "id": "00fd1445",
   "metadata": {
    "execution": {
     "iopub.execute_input": "2024-09-05T12:36:17.997462Z",
     "iopub.status.busy": "2024-09-05T12:36:17.996988Z",
     "iopub.status.idle": "2024-09-05T12:36:18.011098Z",
     "shell.execute_reply": "2024-09-05T12:36:18.009760Z"
    },
    "papermill": {
     "duration": 0.037088,
     "end_time": "2024-09-05T12:36:18.013787",
     "exception": false,
     "start_time": "2024-09-05T12:36:17.976699",
     "status": "completed"
    },
    "tags": []
   },
   "outputs": [
    {
     "data": {
      "text/html": [
       "<div>\n",
       "<style scoped>\n",
       "    .dataframe tbody tr th:only-of-type {\n",
       "        vertical-align: middle;\n",
       "    }\n",
       "\n",
       "    .dataframe tbody tr th {\n",
       "        vertical-align: top;\n",
       "    }\n",
       "\n",
       "    .dataframe thead th {\n",
       "        text-align: right;\n",
       "    }\n",
       "</style>\n",
       "<table border=\"1\" class=\"dataframe\">\n",
       "  <thead>\n",
       "    <tr style=\"text-align: right;\">\n",
       "      <th></th>\n",
       "      <th>PRICE</th>\n",
       "    </tr>\n",
       "    <tr>\n",
       "      <th>SOURCE</th>\n",
       "      <th></th>\n",
       "    </tr>\n",
       "  </thead>\n",
       "  <tbody>\n",
       "    <tr>\n",
       "      <th>android</th>\n",
       "      <td>2974</td>\n",
       "    </tr>\n",
       "    <tr>\n",
       "      <th>ios</th>\n",
       "      <td>2026</td>\n",
       "    </tr>\n",
       "  </tbody>\n",
       "</table>\n",
       "</div>"
      ],
      "text/plain": [
       "         PRICE\n",
       "SOURCE        \n",
       "android   2974\n",
       "ios       2026"
      ]
     },
     "execution_count": 11,
     "metadata": {},
     "output_type": "execute_result"
    }
   ],
   "source": [
    "df.groupby(\"SOURCE\").agg({\"PRICE\": \"count\"})"
   ]
  },
  {
   "cell_type": "markdown",
   "id": "19b6e230",
   "metadata": {
    "papermill": {
     "duration": 0.018647,
     "end_time": "2024-09-05T12:36:18.051310",
     "exception": false,
     "start_time": "2024-09-05T12:36:18.032663",
     "status": "completed"
    },
    "tags": []
   },
   "source": [
    "#### **8-** Ülkelere göre PRICE ortalamaları nedir?"
   ]
  },
  {
   "cell_type": "code",
   "execution_count": 12,
   "id": "5c54ae8a",
   "metadata": {
    "execution": {
     "iopub.execute_input": "2024-09-05T12:36:18.092138Z",
     "iopub.status.busy": "2024-09-05T12:36:18.091654Z",
     "iopub.status.idle": "2024-09-05T12:36:18.112166Z",
     "shell.execute_reply": "2024-09-05T12:36:18.110583Z"
    },
    "papermill": {
     "duration": 0.044085,
     "end_time": "2024-09-05T12:36:18.115032",
     "exception": false,
     "start_time": "2024-09-05T12:36:18.070947",
     "status": "completed"
    },
    "tags": []
   },
   "outputs": [
    {
     "data": {
      "text/html": [
       "<div>\n",
       "<style scoped>\n",
       "    .dataframe tbody tr th:only-of-type {\n",
       "        vertical-align: middle;\n",
       "    }\n",
       "\n",
       "    .dataframe tbody tr th {\n",
       "        vertical-align: top;\n",
       "    }\n",
       "\n",
       "    .dataframe thead th {\n",
       "        text-align: right;\n",
       "    }\n",
       "</style>\n",
       "<table border=\"1\" class=\"dataframe\">\n",
       "  <thead>\n",
       "    <tr style=\"text-align: right;\">\n",
       "      <th></th>\n",
       "      <th>PRICE</th>\n",
       "    </tr>\n",
       "    <tr>\n",
       "      <th>COUNTRY</th>\n",
       "      <th></th>\n",
       "    </tr>\n",
       "  </thead>\n",
       "  <tbody>\n",
       "    <tr>\n",
       "      <th>bra</th>\n",
       "      <td>34.327540</td>\n",
       "    </tr>\n",
       "    <tr>\n",
       "      <th>can</th>\n",
       "      <td>33.608696</td>\n",
       "    </tr>\n",
       "    <tr>\n",
       "      <th>deu</th>\n",
       "      <td>34.032967</td>\n",
       "    </tr>\n",
       "    <tr>\n",
       "      <th>fra</th>\n",
       "      <td>33.587459</td>\n",
       "    </tr>\n",
       "    <tr>\n",
       "      <th>tur</th>\n",
       "      <td>34.787140</td>\n",
       "    </tr>\n",
       "    <tr>\n",
       "      <th>usa</th>\n",
       "      <td>34.007264</td>\n",
       "    </tr>\n",
       "  </tbody>\n",
       "</table>\n",
       "</div>"
      ],
      "text/plain": [
       "             PRICE\n",
       "COUNTRY           \n",
       "bra      34.327540\n",
       "can      33.608696\n",
       "deu      34.032967\n",
       "fra      33.587459\n",
       "tur      34.787140\n",
       "usa      34.007264"
      ]
     },
     "execution_count": 12,
     "metadata": {},
     "output_type": "execute_result"
    }
   ],
   "source": [
    "df.groupby(\"COUNTRY\").agg({\"PRICE\": \"mean\"})"
   ]
  },
  {
   "cell_type": "markdown",
   "id": "c6230d62",
   "metadata": {
    "papermill": {
     "duration": 0.01922,
     "end_time": "2024-09-05T12:36:18.153586",
     "exception": false,
     "start_time": "2024-09-05T12:36:18.134366",
     "status": "completed"
    },
    "tags": []
   },
   "source": [
    "#### **9-** SOURCE'lara göre PRICE ortalamaları nedir?"
   ]
  },
  {
   "cell_type": "code",
   "execution_count": 13,
   "id": "776f5fa3",
   "metadata": {
    "execution": {
     "iopub.execute_input": "2024-09-05T12:36:18.193807Z",
     "iopub.status.busy": "2024-09-05T12:36:18.193339Z",
     "iopub.status.idle": "2024-09-05T12:36:18.208640Z",
     "shell.execute_reply": "2024-09-05T12:36:18.207427Z"
    },
    "papermill": {
     "duration": 0.038689,
     "end_time": "2024-09-05T12:36:18.211419",
     "exception": false,
     "start_time": "2024-09-05T12:36:18.172730",
     "status": "completed"
    },
    "tags": []
   },
   "outputs": [
    {
     "data": {
      "text/html": [
       "<div>\n",
       "<style scoped>\n",
       "    .dataframe tbody tr th:only-of-type {\n",
       "        vertical-align: middle;\n",
       "    }\n",
       "\n",
       "    .dataframe tbody tr th {\n",
       "        vertical-align: top;\n",
       "    }\n",
       "\n",
       "    .dataframe thead th {\n",
       "        text-align: right;\n",
       "    }\n",
       "</style>\n",
       "<table border=\"1\" class=\"dataframe\">\n",
       "  <thead>\n",
       "    <tr style=\"text-align: right;\">\n",
       "      <th></th>\n",
       "      <th>PRICE</th>\n",
       "    </tr>\n",
       "    <tr>\n",
       "      <th>SOURCE</th>\n",
       "      <th></th>\n",
       "    </tr>\n",
       "  </thead>\n",
       "  <tbody>\n",
       "    <tr>\n",
       "      <th>android</th>\n",
       "      <td>34.174849</td>\n",
       "    </tr>\n",
       "    <tr>\n",
       "      <th>ios</th>\n",
       "      <td>34.069102</td>\n",
       "    </tr>\n",
       "  </tbody>\n",
       "</table>\n",
       "</div>"
      ],
      "text/plain": [
       "             PRICE\n",
       "SOURCE            \n",
       "android  34.174849\n",
       "ios      34.069102"
      ]
     },
     "execution_count": 13,
     "metadata": {},
     "output_type": "execute_result"
    }
   ],
   "source": [
    "df.groupby(by=['SOURCE']).agg({\"PRICE\": \"mean\"})"
   ]
  },
  {
   "cell_type": "markdown",
   "id": "997297fa",
   "metadata": {
    "papermill": {
     "duration": 0.018928,
     "end_time": "2024-09-05T12:36:18.249814",
     "exception": false,
     "start_time": "2024-09-05T12:36:18.230886",
     "status": "completed"
    },
    "tags": []
   },
   "source": [
    "#### **10-** COUNTRY-SOURCE kırılımında PRICE ortalamaları nedir?"
   ]
  },
  {
   "cell_type": "code",
   "execution_count": 14,
   "id": "5f2c25fe",
   "metadata": {
    "execution": {
     "iopub.execute_input": "2024-09-05T12:36:18.290142Z",
     "iopub.status.busy": "2024-09-05T12:36:18.289665Z",
     "iopub.status.idle": "2024-09-05T12:36:18.309007Z",
     "shell.execute_reply": "2024-09-05T12:36:18.307742Z"
    },
    "papermill": {
     "duration": 0.042744,
     "end_time": "2024-09-05T12:36:18.311648",
     "exception": false,
     "start_time": "2024-09-05T12:36:18.268904",
     "status": "completed"
    },
    "tags": []
   },
   "outputs": [
    {
     "data": {
      "text/html": [
       "<div>\n",
       "<style scoped>\n",
       "    .dataframe tbody tr th:only-of-type {\n",
       "        vertical-align: middle;\n",
       "    }\n",
       "\n",
       "    .dataframe tbody tr th {\n",
       "        vertical-align: top;\n",
       "    }\n",
       "\n",
       "    .dataframe thead th {\n",
       "        text-align: right;\n",
       "    }\n",
       "</style>\n",
       "<table border=\"1\" class=\"dataframe\">\n",
       "  <thead>\n",
       "    <tr style=\"text-align: right;\">\n",
       "      <th></th>\n",
       "      <th></th>\n",
       "      <th>PRICE</th>\n",
       "    </tr>\n",
       "    <tr>\n",
       "      <th>COUNTRY</th>\n",
       "      <th>SOURCE</th>\n",
       "      <th></th>\n",
       "    </tr>\n",
       "  </thead>\n",
       "  <tbody>\n",
       "    <tr>\n",
       "      <th rowspan=\"2\" valign=\"top\">bra</th>\n",
       "      <th>android</th>\n",
       "      <td>34.387029</td>\n",
       "    </tr>\n",
       "    <tr>\n",
       "      <th>ios</th>\n",
       "      <td>34.222222</td>\n",
       "    </tr>\n",
       "    <tr>\n",
       "      <th rowspan=\"2\" valign=\"top\">can</th>\n",
       "      <th>android</th>\n",
       "      <td>33.330709</td>\n",
       "    </tr>\n",
       "    <tr>\n",
       "      <th>ios</th>\n",
       "      <td>33.951456</td>\n",
       "    </tr>\n",
       "    <tr>\n",
       "      <th rowspan=\"2\" valign=\"top\">deu</th>\n",
       "      <th>android</th>\n",
       "      <td>33.869888</td>\n",
       "    </tr>\n",
       "    <tr>\n",
       "      <th>ios</th>\n",
       "      <td>34.268817</td>\n",
       "    </tr>\n",
       "    <tr>\n",
       "      <th rowspan=\"2\" valign=\"top\">fra</th>\n",
       "      <th>android</th>\n",
       "      <td>34.312500</td>\n",
       "    </tr>\n",
       "    <tr>\n",
       "      <th>ios</th>\n",
       "      <td>32.776224</td>\n",
       "    </tr>\n",
       "    <tr>\n",
       "      <th rowspan=\"2\" valign=\"top\">tur</th>\n",
       "      <th>android</th>\n",
       "      <td>36.229437</td>\n",
       "    </tr>\n",
       "    <tr>\n",
       "      <th>ios</th>\n",
       "      <td>33.272727</td>\n",
       "    </tr>\n",
       "    <tr>\n",
       "      <th rowspan=\"2\" valign=\"top\">usa</th>\n",
       "      <th>android</th>\n",
       "      <td>33.760357</td>\n",
       "    </tr>\n",
       "    <tr>\n",
       "      <th>ios</th>\n",
       "      <td>34.371703</td>\n",
       "    </tr>\n",
       "  </tbody>\n",
       "</table>\n",
       "</div>"
      ],
      "text/plain": [
       "                     PRICE\n",
       "COUNTRY SOURCE            \n",
       "bra     android  34.387029\n",
       "        ios      34.222222\n",
       "can     android  33.330709\n",
       "        ios      33.951456\n",
       "deu     android  33.869888\n",
       "        ios      34.268817\n",
       "fra     android  34.312500\n",
       "        ios      32.776224\n",
       "tur     android  36.229437\n",
       "        ios      33.272727\n",
       "usa     android  33.760357\n",
       "        ios      34.371703"
      ]
     },
     "execution_count": 14,
     "metadata": {},
     "output_type": "execute_result"
    }
   ],
   "source": [
    "df.groupby([\"COUNTRY\", \"SOURCE\"]).agg({\"PRICE\": \"mean\"})"
   ]
  },
  {
   "cell_type": "markdown",
   "id": "11f03369",
   "metadata": {
    "papermill": {
     "duration": 0.019482,
     "end_time": "2024-09-05T12:36:18.351543",
     "exception": false,
     "start_time": "2024-09-05T12:36:18.332061",
     "status": "completed"
    },
    "tags": []
   },
   "source": [
    "## **GÖREV-2:**  COUNTRY, SOURCE, SEX, AGE kırılımında ortalama kazançlar nedir?"
   ]
  },
  {
   "cell_type": "markdown",
   "id": "82b07f3c",
   "metadata": {
    "papermill": {
     "duration": 0.020348,
     "end_time": "2024-09-05T12:36:18.393137",
     "exception": false,
     "start_time": "2024-09-05T12:36:18.372789",
     "status": "completed"
    },
    "tags": []
   },
   "source": [
    "### **Elde edilmesi gereken çıktı:**"
   ]
  },
  {
   "cell_type": "markdown",
   "id": "647336c3",
   "metadata": {
    "papermill": {
     "duration": 0.019841,
     "end_time": "2024-09-05T12:36:18.432820",
     "exception": false,
     "start_time": "2024-09-05T12:36:18.412979",
     "status": "completed"
    },
    "tags": []
   },
   "source": [
    "|    |    |    |    |    | **PRICE**   |\n",
    "|------------|------------|------------|------------|------------|------------|\n",
    "| | **COUNTRY**| **SOURCE**| **SEX**| **AGE**| |\n",
    "| 0 | bra | android | female | 15 | 38.71 |\n",
    "| 1 |  |  |  | 16 | 35.94 |\n",
    "| 2 |  |  |  | 17 | 35.66 |\n",
    "| 3 |  |  |  | 18 | 32.25 |\n",
    "| 4 |  |  |  | 19 | 35.20 |\n"
   ]
  },
  {
   "cell_type": "code",
   "execution_count": 15,
   "id": "0e2d0186",
   "metadata": {
    "execution": {
     "iopub.execute_input": "2024-09-05T12:36:18.476434Z",
     "iopub.status.busy": "2024-09-05T12:36:18.475966Z",
     "iopub.status.idle": "2024-09-05T12:36:18.496434Z",
     "shell.execute_reply": "2024-09-05T12:36:18.495180Z"
    },
    "papermill": {
     "duration": 0.044573,
     "end_time": "2024-09-05T12:36:18.499247",
     "exception": false,
     "start_time": "2024-09-05T12:36:18.454674",
     "status": "completed"
    },
    "tags": []
   },
   "outputs": [
    {
     "data": {
      "text/html": [
       "<div>\n",
       "<style scoped>\n",
       "    .dataframe tbody tr th:only-of-type {\n",
       "        vertical-align: middle;\n",
       "    }\n",
       "\n",
       "    .dataframe tbody tr th {\n",
       "        vertical-align: top;\n",
       "    }\n",
       "\n",
       "    .dataframe thead th {\n",
       "        text-align: right;\n",
       "    }\n",
       "</style>\n",
       "<table border=\"1\" class=\"dataframe\">\n",
       "  <thead>\n",
       "    <tr style=\"text-align: right;\">\n",
       "      <th></th>\n",
       "      <th></th>\n",
       "      <th></th>\n",
       "      <th></th>\n",
       "      <th>PRICE</th>\n",
       "    </tr>\n",
       "    <tr>\n",
       "      <th>COUNTRY</th>\n",
       "      <th>SOURCE</th>\n",
       "      <th>SEX</th>\n",
       "      <th>AGE</th>\n",
       "      <th></th>\n",
       "    </tr>\n",
       "  </thead>\n",
       "  <tbody>\n",
       "    <tr>\n",
       "      <th rowspan=\"5\" valign=\"top\">bra</th>\n",
       "      <th rowspan=\"5\" valign=\"top\">android</th>\n",
       "      <th rowspan=\"5\" valign=\"top\">female</th>\n",
       "      <th>15</th>\n",
       "      <td>38.714286</td>\n",
       "    </tr>\n",
       "    <tr>\n",
       "      <th>16</th>\n",
       "      <td>35.944444</td>\n",
       "    </tr>\n",
       "    <tr>\n",
       "      <th>17</th>\n",
       "      <td>35.666667</td>\n",
       "    </tr>\n",
       "    <tr>\n",
       "      <th>18</th>\n",
       "      <td>32.255814</td>\n",
       "    </tr>\n",
       "    <tr>\n",
       "      <th>19</th>\n",
       "      <td>35.206897</td>\n",
       "    </tr>\n",
       "  </tbody>\n",
       "</table>\n",
       "</div>"
      ],
      "text/plain": [
       "                                PRICE\n",
       "COUNTRY SOURCE  SEX    AGE           \n",
       "bra     android female 15   38.714286\n",
       "                       16   35.944444\n",
       "                       17   35.666667\n",
       "                       18   32.255814\n",
       "                       19   35.206897"
      ]
     },
     "execution_count": 15,
     "metadata": {},
     "output_type": "execute_result"
    }
   ],
   "source": [
    "df.groupby([\"COUNTRY\", \"SOURCE\", \"SEX\", \"AGE\"]).agg({\"PRICE\": \"mean\"}).head()"
   ]
  },
  {
   "cell_type": "markdown",
   "id": "f655178b",
   "metadata": {
    "papermill": {
     "duration": 0.02007,
     "end_time": "2024-09-05T12:36:18.540760",
     "exception": false,
     "start_time": "2024-09-05T12:36:18.520690",
     "status": "completed"
    },
    "tags": []
   },
   "source": [
    "## **GÖREV-3:** Çıktıyı PRICE'a göre sıralayınız ve agg_df olarak kaydediniz."
   ]
  },
  {
   "cell_type": "markdown",
   "id": "eeb1059a",
   "metadata": {
    "papermill": {
     "duration": 0.020268,
     "end_time": "2024-09-05T12:36:18.581115",
     "exception": false,
     "start_time": "2024-09-05T12:36:18.560847",
     "status": "completed"
    },
    "tags": []
   },
   "source": [
    "### **Elde edilmesi gereken çıktı:**"
   ]
  },
  {
   "cell_type": "markdown",
   "id": "850ff328",
   "metadata": {
    "papermill": {
     "duration": 0.019542,
     "end_time": "2024-09-05T12:36:18.620925",
     "exception": false,
     "start_time": "2024-09-05T12:36:18.601383",
     "status": "completed"
    },
    "tags": []
   },
   "source": [
    "|    |    |    |   |    | PRICE   |\n",
    "|------------|------------|------------|------------|------------|------------|\n",
    "| | **COUNTRY**| **SOURCE**| **SEX**| **AGE**| |\n",
    "| 0 | bra | android | male | 46 | 59.0 |\n",
    "| 1 | usa | android | male | 36 | 59.0 |\n",
    "| 2 | fra | android | female | 24 | 59.0 |\n",
    "| 3 | usa | ios | male | 32 | 54.0 |\n",
    "| 4 | deu | android | female | 36 | 49.0 |\n"
   ]
  },
  {
   "cell_type": "code",
   "execution_count": 16,
   "id": "4d551967",
   "metadata": {
    "execution": {
     "iopub.execute_input": "2024-09-05T12:36:18.663085Z",
     "iopub.status.busy": "2024-09-05T12:36:18.662661Z",
     "iopub.status.idle": "2024-09-05T12:36:18.677187Z",
     "shell.execute_reply": "2024-09-05T12:36:18.675848Z"
    },
    "papermill": {
     "duration": 0.039268,
     "end_time": "2024-09-05T12:36:18.680226",
     "exception": false,
     "start_time": "2024-09-05T12:36:18.640958",
     "status": "completed"
    },
    "tags": []
   },
   "outputs": [],
   "source": [
    "agg_df = df.groupby([\"COUNTRY\", \"SOURCE\", \"SEX\", \"AGE\"]).agg({\"PRICE\": \"mean\"}).sort_values(\"PRICE\", ascending=False)"
   ]
  },
  {
   "cell_type": "code",
   "execution_count": 17,
   "id": "03df00a2",
   "metadata": {
    "execution": {
     "iopub.execute_input": "2024-09-05T12:36:18.781675Z",
     "iopub.status.busy": "2024-09-05T12:36:18.781166Z",
     "iopub.status.idle": "2024-09-05T12:36:18.796791Z",
     "shell.execute_reply": "2024-09-05T12:36:18.795516Z"
    },
    "papermill": {
     "duration": 0.099103,
     "end_time": "2024-09-05T12:36:18.799538",
     "exception": false,
     "start_time": "2024-09-05T12:36:18.700435",
     "status": "completed"
    },
    "tags": []
   },
   "outputs": [
    {
     "data": {
      "text/html": [
       "<div>\n",
       "<style scoped>\n",
       "    .dataframe tbody tr th:only-of-type {\n",
       "        vertical-align: middle;\n",
       "    }\n",
       "\n",
       "    .dataframe tbody tr th {\n",
       "        vertical-align: top;\n",
       "    }\n",
       "\n",
       "    .dataframe thead th {\n",
       "        text-align: right;\n",
       "    }\n",
       "</style>\n",
       "<table border=\"1\" class=\"dataframe\">\n",
       "  <thead>\n",
       "    <tr style=\"text-align: right;\">\n",
       "      <th></th>\n",
       "      <th></th>\n",
       "      <th></th>\n",
       "      <th></th>\n",
       "      <th>PRICE</th>\n",
       "    </tr>\n",
       "    <tr>\n",
       "      <th>COUNTRY</th>\n",
       "      <th>SOURCE</th>\n",
       "      <th>SEX</th>\n",
       "      <th>AGE</th>\n",
       "      <th></th>\n",
       "    </tr>\n",
       "  </thead>\n",
       "  <tbody>\n",
       "    <tr>\n",
       "      <th>bra</th>\n",
       "      <th>android</th>\n",
       "      <th>male</th>\n",
       "      <th>46</th>\n",
       "      <td>59.0</td>\n",
       "    </tr>\n",
       "    <tr>\n",
       "      <th>usa</th>\n",
       "      <th>android</th>\n",
       "      <th>male</th>\n",
       "      <th>36</th>\n",
       "      <td>59.0</td>\n",
       "    </tr>\n",
       "    <tr>\n",
       "      <th>fra</th>\n",
       "      <th>android</th>\n",
       "      <th>female</th>\n",
       "      <th>24</th>\n",
       "      <td>59.0</td>\n",
       "    </tr>\n",
       "    <tr>\n",
       "      <th>usa</th>\n",
       "      <th>ios</th>\n",
       "      <th>male</th>\n",
       "      <th>32</th>\n",
       "      <td>54.0</td>\n",
       "    </tr>\n",
       "    <tr>\n",
       "      <th>deu</th>\n",
       "      <th>android</th>\n",
       "      <th>female</th>\n",
       "      <th>36</th>\n",
       "      <td>49.0</td>\n",
       "    </tr>\n",
       "  </tbody>\n",
       "</table>\n",
       "</div>"
      ],
      "text/plain": [
       "                            PRICE\n",
       "COUNTRY SOURCE  SEX    AGE       \n",
       "bra     android male   46    59.0\n",
       "usa     android male   36    59.0\n",
       "fra     android female 24    59.0\n",
       "usa     ios     male   32    54.0\n",
       "deu     android female 36    49.0"
      ]
     },
     "execution_count": 17,
     "metadata": {},
     "output_type": "execute_result"
    }
   ],
   "source": [
    "agg_df.head()"
   ]
  },
  {
   "cell_type": "markdown",
   "id": "beb12a35",
   "metadata": {
    "papermill": {
     "duration": 0.019975,
     "end_time": "2024-09-05T12:36:18.840693",
     "exception": false,
     "start_time": "2024-09-05T12:36:18.820718",
     "status": "completed"
    },
    "tags": []
   },
   "source": [
    "## **GÖREV-4:** Indekste yer alan isimleri değişken isimlerine çeviriniz."
   ]
  },
  {
   "cell_type": "code",
   "execution_count": 18,
   "id": "d1a55c4b",
   "metadata": {
    "execution": {
     "iopub.execute_input": "2024-09-05T12:36:18.884248Z",
     "iopub.status.busy": "2024-09-05T12:36:18.883777Z",
     "iopub.status.idle": "2024-09-05T12:36:18.903205Z",
     "shell.execute_reply": "2024-09-05T12:36:18.901960Z"
    },
    "papermill": {
     "duration": 0.044095,
     "end_time": "2024-09-05T12:36:18.905972",
     "exception": false,
     "start_time": "2024-09-05T12:36:18.861877",
     "status": "completed"
    },
    "tags": []
   },
   "outputs": [
    {
     "data": {
      "text/html": [
       "<div>\n",
       "<style scoped>\n",
       "    .dataframe tbody tr th:only-of-type {\n",
       "        vertical-align: middle;\n",
       "    }\n",
       "\n",
       "    .dataframe tbody tr th {\n",
       "        vertical-align: top;\n",
       "    }\n",
       "\n",
       "    .dataframe thead th {\n",
       "        text-align: right;\n",
       "    }\n",
       "</style>\n",
       "<table border=\"1\" class=\"dataframe\">\n",
       "  <thead>\n",
       "    <tr style=\"text-align: right;\">\n",
       "      <th></th>\n",
       "      <th>COUNTRY</th>\n",
       "      <th>SOURCE</th>\n",
       "      <th>SEX</th>\n",
       "      <th>AGE</th>\n",
       "      <th>PRICE</th>\n",
       "    </tr>\n",
       "  </thead>\n",
       "  <tbody>\n",
       "    <tr>\n",
       "      <th>0</th>\n",
       "      <td>bra</td>\n",
       "      <td>android</td>\n",
       "      <td>male</td>\n",
       "      <td>46</td>\n",
       "      <td>59.0</td>\n",
       "    </tr>\n",
       "    <tr>\n",
       "      <th>1</th>\n",
       "      <td>usa</td>\n",
       "      <td>android</td>\n",
       "      <td>male</td>\n",
       "      <td>36</td>\n",
       "      <td>59.0</td>\n",
       "    </tr>\n",
       "    <tr>\n",
       "      <th>2</th>\n",
       "      <td>fra</td>\n",
       "      <td>android</td>\n",
       "      <td>female</td>\n",
       "      <td>24</td>\n",
       "      <td>59.0</td>\n",
       "    </tr>\n",
       "    <tr>\n",
       "      <th>3</th>\n",
       "      <td>usa</td>\n",
       "      <td>ios</td>\n",
       "      <td>male</td>\n",
       "      <td>32</td>\n",
       "      <td>54.0</td>\n",
       "    </tr>\n",
       "    <tr>\n",
       "      <th>4</th>\n",
       "      <td>deu</td>\n",
       "      <td>android</td>\n",
       "      <td>female</td>\n",
       "      <td>36</td>\n",
       "      <td>49.0</td>\n",
       "    </tr>\n",
       "  </tbody>\n",
       "</table>\n",
       "</div>"
      ],
      "text/plain": [
       "  COUNTRY   SOURCE     SEX  AGE  PRICE\n",
       "0     bra  android    male   46   59.0\n",
       "1     usa  android    male   36   59.0\n",
       "2     fra  android  female   24   59.0\n",
       "3     usa      ios    male   32   54.0\n",
       "4     deu  android  female   36   49.0"
      ]
     },
     "execution_count": 18,
     "metadata": {},
     "output_type": "execute_result"
    }
   ],
   "source": [
    "agg_df = agg_df.reset_index()\n",
    "agg_df.head()"
   ]
  },
  {
   "cell_type": "markdown",
   "id": "1647ba4e",
   "metadata": {
    "papermill": {
     "duration": 0.020601,
     "end_time": "2024-09-05T12:36:18.947053",
     "exception": false,
     "start_time": "2024-09-05T12:36:18.926452",
     "status": "completed"
    },
    "tags": []
   },
   "source": [
    "## **GÖREV-5:** Age değişkenini kategorik değişkene çeviriniz ve **agg_df**'e ekleyiniz."
   ]
  },
  {
   "cell_type": "markdown",
   "id": "b8928336",
   "metadata": {
    "papermill": {
     "duration": 0.020401,
     "end_time": "2024-09-05T12:36:18.988866",
     "exception": false,
     "start_time": "2024-09-05T12:36:18.968465",
     "status": "completed"
    },
    "tags": []
   },
   "source": [
    "### **Elde edilmesi gereken örnek çıktı:**"
   ]
  },
  {
   "cell_type": "markdown",
   "id": "b06f8a76",
   "metadata": {
    "papermill": {
     "duration": 0.021499,
     "end_time": "2024-09-05T12:36:19.031132",
     "exception": false,
     "start_time": "2024-09-05T12:36:19.009633",
     "status": "completed"
    },
    "tags": []
   },
   "source": [
    "| **COUNTRY**   | **SOURCE**   | **SEX**   | **AGE**   | **PRICE**   | **AGE_CAT**   |\n",
    "|------------|------------|------------|------------|------------|------------|\n",
    "| bra | android | male | 46 | 59.0 | 41_70 |\n",
    "| usa | android | male | 36 | 59.0 | 31_40 |\n",
    "| fra | android | female | 24 | 59.0 | 24_30 |\n",
    "| usa | ios | male | 32 | 54.0 | 31_40 |\n",
    "| deu | android | female | 36 | 49.0 | 31_40 |\n"
   ]
  },
  {
   "cell_type": "code",
   "execution_count": 19,
   "id": "72db7a84",
   "metadata": {
    "execution": {
     "iopub.execute_input": "2024-09-05T12:36:19.076848Z",
     "iopub.status.busy": "2024-09-05T12:36:19.076422Z",
     "iopub.status.idle": "2024-09-05T12:36:19.082595Z",
     "shell.execute_reply": "2024-09-05T12:36:19.081374Z"
    },
    "papermill": {
     "duration": 0.03213,
     "end_time": "2024-09-05T12:36:19.085206",
     "exception": false,
     "start_time": "2024-09-05T12:36:19.053076",
     "status": "completed"
    },
    "tags": []
   },
   "outputs": [],
   "source": [
    "bins = [0, 18, 23, 30, 40, agg_df[\"AGE\"].max()]"
   ]
  },
  {
   "cell_type": "code",
   "execution_count": 20,
   "id": "50e62e08",
   "metadata": {
    "execution": {
     "iopub.execute_input": "2024-09-05T12:36:19.130110Z",
     "iopub.status.busy": "2024-09-05T12:36:19.129633Z",
     "iopub.status.idle": "2024-09-05T12:36:19.136242Z",
     "shell.execute_reply": "2024-09-05T12:36:19.134678Z"
    },
    "papermill": {
     "duration": 0.032572,
     "end_time": "2024-09-05T12:36:19.138908",
     "exception": false,
     "start_time": "2024-09-05T12:36:19.106336",
     "status": "completed"
    },
    "tags": []
   },
   "outputs": [],
   "source": [
    "labels = ['0_18', '19_23', '24_30', '31_40', '41_'+ str(agg_df[\"AGE\"].max())]"
   ]
  },
  {
   "cell_type": "code",
   "execution_count": 21,
   "id": "1ed5278e",
   "metadata": {
    "execution": {
     "iopub.execute_input": "2024-09-05T12:36:19.184389Z",
     "iopub.status.busy": "2024-09-05T12:36:19.183896Z",
     "iopub.status.idle": "2024-09-05T12:36:19.194807Z",
     "shell.execute_reply": "2024-09-05T12:36:19.193365Z"
    },
    "papermill": {
     "duration": 0.036892,
     "end_time": "2024-09-05T12:36:19.197897",
     "exception": false,
     "start_time": "2024-09-05T12:36:19.161005",
     "status": "completed"
    },
    "tags": []
   },
   "outputs": [],
   "source": [
    "agg_df[\"age_cat\"] = pd.cut(agg_df[\"AGE\"], bins, labels=labels)"
   ]
  },
  {
   "cell_type": "code",
   "execution_count": 22,
   "id": "e6ef07dc",
   "metadata": {
    "execution": {
     "iopub.execute_input": "2024-09-05T12:36:19.241925Z",
     "iopub.status.busy": "2024-09-05T12:36:19.241469Z",
     "iopub.status.idle": "2024-09-05T12:36:19.258921Z",
     "shell.execute_reply": "2024-09-05T12:36:19.257616Z"
    },
    "papermill": {
     "duration": 0.043775,
     "end_time": "2024-09-05T12:36:19.262103",
     "exception": false,
     "start_time": "2024-09-05T12:36:19.218328",
     "status": "completed"
    },
    "tags": []
   },
   "outputs": [
    {
     "data": {
      "text/html": [
       "<div>\n",
       "<style scoped>\n",
       "    .dataframe tbody tr th:only-of-type {\n",
       "        vertical-align: middle;\n",
       "    }\n",
       "\n",
       "    .dataframe tbody tr th {\n",
       "        vertical-align: top;\n",
       "    }\n",
       "\n",
       "    .dataframe thead th {\n",
       "        text-align: right;\n",
       "    }\n",
       "</style>\n",
       "<table border=\"1\" class=\"dataframe\">\n",
       "  <thead>\n",
       "    <tr style=\"text-align: right;\">\n",
       "      <th></th>\n",
       "      <th>COUNTRY</th>\n",
       "      <th>SOURCE</th>\n",
       "      <th>SEX</th>\n",
       "      <th>AGE</th>\n",
       "      <th>PRICE</th>\n",
       "      <th>age_cat</th>\n",
       "    </tr>\n",
       "  </thead>\n",
       "  <tbody>\n",
       "    <tr>\n",
       "      <th>0</th>\n",
       "      <td>bra</td>\n",
       "      <td>android</td>\n",
       "      <td>male</td>\n",
       "      <td>46</td>\n",
       "      <td>59.0</td>\n",
       "      <td>41_66</td>\n",
       "    </tr>\n",
       "    <tr>\n",
       "      <th>1</th>\n",
       "      <td>usa</td>\n",
       "      <td>android</td>\n",
       "      <td>male</td>\n",
       "      <td>36</td>\n",
       "      <td>59.0</td>\n",
       "      <td>31_40</td>\n",
       "    </tr>\n",
       "    <tr>\n",
       "      <th>2</th>\n",
       "      <td>fra</td>\n",
       "      <td>android</td>\n",
       "      <td>female</td>\n",
       "      <td>24</td>\n",
       "      <td>59.0</td>\n",
       "      <td>24_30</td>\n",
       "    </tr>\n",
       "    <tr>\n",
       "      <th>3</th>\n",
       "      <td>usa</td>\n",
       "      <td>ios</td>\n",
       "      <td>male</td>\n",
       "      <td>32</td>\n",
       "      <td>54.0</td>\n",
       "      <td>31_40</td>\n",
       "    </tr>\n",
       "    <tr>\n",
       "      <th>4</th>\n",
       "      <td>deu</td>\n",
       "      <td>android</td>\n",
       "      <td>female</td>\n",
       "      <td>36</td>\n",
       "      <td>49.0</td>\n",
       "      <td>31_40</td>\n",
       "    </tr>\n",
       "  </tbody>\n",
       "</table>\n",
       "</div>"
      ],
      "text/plain": [
       "  COUNTRY   SOURCE     SEX  AGE  PRICE age_cat\n",
       "0     bra  android    male   46   59.0   41_66\n",
       "1     usa  android    male   36   59.0   31_40\n",
       "2     fra  android  female   24   59.0   24_30\n",
       "3     usa      ios    male   32   54.0   31_40\n",
       "4     deu  android  female   36   49.0   31_40"
      ]
     },
     "execution_count": 22,
     "metadata": {},
     "output_type": "execute_result"
    }
   ],
   "source": [
    "agg_df.head()"
   ]
  },
  {
   "cell_type": "code",
   "execution_count": 23,
   "id": "1e78dcae",
   "metadata": {
    "execution": {
     "iopub.execute_input": "2024-09-05T12:36:19.306912Z",
     "iopub.status.busy": "2024-09-05T12:36:19.306458Z",
     "iopub.status.idle": "2024-09-05T12:36:19.318285Z",
     "shell.execute_reply": "2024-09-05T12:36:19.316881Z"
    },
    "papermill": {
     "duration": 0.037535,
     "end_time": "2024-09-05T12:36:19.321176",
     "exception": false,
     "start_time": "2024-09-05T12:36:19.283641",
     "status": "completed"
    },
    "tags": []
   },
   "outputs": [
    {
     "data": {
      "text/plain": [
       "age_cat\n",
       "24_30    78\n",
       "0_18     77\n",
       "19_23    71\n",
       "31_40    65\n",
       "41_66    57\n",
       "Name: count, dtype: int64"
      ]
     },
     "execution_count": 23,
     "metadata": {},
     "output_type": "execute_result"
    }
   ],
   "source": [
    "agg_df[\"age_cat\"].value_counts()"
   ]
  },
  {
   "cell_type": "markdown",
   "id": "376727a7",
   "metadata": {
    "papermill": {
     "duration": 0.021876,
     "end_time": "2024-09-05T12:36:19.363960",
     "exception": false,
     "start_time": "2024-09-05T12:36:19.342084",
     "status": "completed"
    },
    "tags": []
   },
   "source": [
    "## **GÖREV-6:** Yeni seviye tabanlı müşterileri (persona) tanımlayınız ve customers_level_based değişkeni olarak veri setine ekleyiniz."
   ]
  },
  {
   "cell_type": "markdown",
   "id": "8db7ad85",
   "metadata": {
    "papermill": {
     "duration": 0.021712,
     "end_time": "2024-09-05T12:36:19.407967",
     "exception": false,
     "start_time": "2024-09-05T12:36:19.386255",
     "status": "completed"
    },
    "tags": []
   },
   "source": [
    "### **Elde edilmesi gereken çıktı:**"
   ]
  },
  {
   "cell_type": "markdown",
   "id": "32b55df6",
   "metadata": {
    "papermill": {
     "duration": 0.023666,
     "end_time": "2024-09-05T12:36:19.452916",
     "exception": false,
     "start_time": "2024-09-05T12:36:19.429250",
     "status": "completed"
    },
    "tags": []
   },
   "source": [
    "| **customers_level_based**   | **PRICE**   |\n",
    "|------------|------------|\n",
    "| BRA_ANDROID_MALE_41_66 | 59.0 |\n",
    "| USA_ANDROID_MALE_31_40 | 59.0 |\n",
    "| FRA_ANDROID_FEMALE_24_30 | 59.0 |\n",
    "| USA_IOS_MALE_31_40 | 54.0 |\n",
    "| DEU_ANDROID_FEMALE_31_40 | 49.0 |\n"
   ]
  },
  {
   "cell_type": "code",
   "execution_count": 24,
   "id": "c91703d7",
   "metadata": {
    "execution": {
     "iopub.execute_input": "2024-09-05T12:36:19.498667Z",
     "iopub.status.busy": "2024-09-05T12:36:19.498200Z",
     "iopub.status.idle": "2024-09-05T12:36:19.515707Z",
     "shell.execute_reply": "2024-09-05T12:36:19.514209Z"
    },
    "papermill": {
     "duration": 0.044013,
     "end_time": "2024-09-05T12:36:19.518851",
     "exception": false,
     "start_time": "2024-09-05T12:36:19.474838",
     "status": "completed"
    },
    "tags": []
   },
   "outputs": [],
   "source": [
    "agg_df[\"customers_level_based\"] = agg_df[['COUNTRY', 'SOURCE', 'SEX', 'age_cat']].agg(lambda x: '_'.join(x).upper(), axis=1)"
   ]
  },
  {
   "cell_type": "code",
   "execution_count": 25,
   "id": "fa56becd",
   "metadata": {
    "execution": {
     "iopub.execute_input": "2024-09-05T12:36:19.563492Z",
     "iopub.status.busy": "2024-09-05T12:36:19.563013Z",
     "iopub.status.idle": "2024-09-05T12:36:19.580073Z",
     "shell.execute_reply": "2024-09-05T12:36:19.578356Z"
    },
    "papermill": {
     "duration": 0.043632,
     "end_time": "2024-09-05T12:36:19.583452",
     "exception": false,
     "start_time": "2024-09-05T12:36:19.539820",
     "status": "completed"
    },
    "tags": []
   },
   "outputs": [
    {
     "data": {
      "text/html": [
       "<div>\n",
       "<style scoped>\n",
       "    .dataframe tbody tr th:only-of-type {\n",
       "        vertical-align: middle;\n",
       "    }\n",
       "\n",
       "    .dataframe tbody tr th {\n",
       "        vertical-align: top;\n",
       "    }\n",
       "\n",
       "    .dataframe thead th {\n",
       "        text-align: right;\n",
       "    }\n",
       "</style>\n",
       "<table border=\"1\" class=\"dataframe\">\n",
       "  <thead>\n",
       "    <tr style=\"text-align: right;\">\n",
       "      <th></th>\n",
       "      <th>COUNTRY</th>\n",
       "      <th>SOURCE</th>\n",
       "      <th>SEX</th>\n",
       "      <th>AGE</th>\n",
       "      <th>PRICE</th>\n",
       "      <th>age_cat</th>\n",
       "      <th>customers_level_based</th>\n",
       "    </tr>\n",
       "  </thead>\n",
       "  <tbody>\n",
       "    <tr>\n",
       "      <th>0</th>\n",
       "      <td>bra</td>\n",
       "      <td>android</td>\n",
       "      <td>male</td>\n",
       "      <td>46</td>\n",
       "      <td>59.0</td>\n",
       "      <td>41_66</td>\n",
       "      <td>BRA_ANDROID_MALE_41_66</td>\n",
       "    </tr>\n",
       "    <tr>\n",
       "      <th>1</th>\n",
       "      <td>usa</td>\n",
       "      <td>android</td>\n",
       "      <td>male</td>\n",
       "      <td>36</td>\n",
       "      <td>59.0</td>\n",
       "      <td>31_40</td>\n",
       "      <td>USA_ANDROID_MALE_31_40</td>\n",
       "    </tr>\n",
       "    <tr>\n",
       "      <th>2</th>\n",
       "      <td>fra</td>\n",
       "      <td>android</td>\n",
       "      <td>female</td>\n",
       "      <td>24</td>\n",
       "      <td>59.0</td>\n",
       "      <td>24_30</td>\n",
       "      <td>FRA_ANDROID_FEMALE_24_30</td>\n",
       "    </tr>\n",
       "    <tr>\n",
       "      <th>3</th>\n",
       "      <td>usa</td>\n",
       "      <td>ios</td>\n",
       "      <td>male</td>\n",
       "      <td>32</td>\n",
       "      <td>54.0</td>\n",
       "      <td>31_40</td>\n",
       "      <td>USA_IOS_MALE_31_40</td>\n",
       "    </tr>\n",
       "    <tr>\n",
       "      <th>4</th>\n",
       "      <td>deu</td>\n",
       "      <td>android</td>\n",
       "      <td>female</td>\n",
       "      <td>36</td>\n",
       "      <td>49.0</td>\n",
       "      <td>31_40</td>\n",
       "      <td>DEU_ANDROID_FEMALE_31_40</td>\n",
       "    </tr>\n",
       "  </tbody>\n",
       "</table>\n",
       "</div>"
      ],
      "text/plain": [
       "  COUNTRY   SOURCE     SEX  AGE  PRICE age_cat     customers_level_based\n",
       "0     bra  android    male   46   59.0   41_66    BRA_ANDROID_MALE_41_66\n",
       "1     usa  android    male   36   59.0   31_40    USA_ANDROID_MALE_31_40\n",
       "2     fra  android  female   24   59.0   24_30  FRA_ANDROID_FEMALE_24_30\n",
       "3     usa      ios    male   32   54.0   31_40        USA_IOS_MALE_31_40\n",
       "4     deu  android  female   36   49.0   31_40  DEU_ANDROID_FEMALE_31_40"
      ]
     },
     "execution_count": 25,
     "metadata": {},
     "output_type": "execute_result"
    }
   ],
   "source": [
    "agg_df.head()"
   ]
  },
  {
   "cell_type": "markdown",
   "id": "0ae3419d",
   "metadata": {
    "papermill": {
     "duration": 0.020854,
     "end_time": "2024-09-05T12:36:19.626655",
     "exception": false,
     "start_time": "2024-09-05T12:36:19.605801",
     "status": "completed"
    },
    "tags": []
   },
   "source": [
    "## **GÖREV-7:** Yeni müşterileri (personaları) segmentlere ayırınız."
   ]
  },
  {
   "cell_type": "markdown",
   "id": "576ad6a6",
   "metadata": {
    "papermill": {
     "duration": 0.021483,
     "end_time": "2024-09-05T12:36:19.669506",
     "exception": false,
     "start_time": "2024-09-05T12:36:19.648023",
     "status": "completed"
    },
    "tags": []
   },
   "source": [
    "* #### Yeni müşterileri (Örnek: USA_ANDROID_MALE_0_18) **PRICE**'a göre 4 segmente ayırınız.\n",
    "* #### Segmentleri **SEGMENT** isimlendirmesi ile değişken olarak **agg_df**'e ekleyiniz.\n",
    "* #### Segmentleri betimleyiniz. (Price mean, max, sum'larını alınız.)"
   ]
  },
  {
   "cell_type": "code",
   "execution_count": 26,
   "id": "b5aae45a",
   "metadata": {
    "execution": {
     "iopub.execute_input": "2024-09-05T12:36:19.716142Z",
     "iopub.status.busy": "2024-09-05T12:36:19.715713Z",
     "iopub.status.idle": "2024-09-05T12:36:19.738492Z",
     "shell.execute_reply": "2024-09-05T12:36:19.736584Z"
    },
    "papermill": {
     "duration": 0.049404,
     "end_time": "2024-09-05T12:36:19.741302",
     "exception": false,
     "start_time": "2024-09-05T12:36:19.691898",
     "status": "completed"
    },
    "tags": []
   },
   "outputs": [
    {
     "data": {
      "text/html": [
       "<div>\n",
       "<style scoped>\n",
       "    .dataframe tbody tr th:only-of-type {\n",
       "        vertical-align: middle;\n",
       "    }\n",
       "\n",
       "    .dataframe tbody tr th {\n",
       "        vertical-align: top;\n",
       "    }\n",
       "\n",
       "    .dataframe thead th {\n",
       "        text-align: right;\n",
       "    }\n",
       "</style>\n",
       "<table border=\"1\" class=\"dataframe\">\n",
       "  <thead>\n",
       "    <tr style=\"text-align: right;\">\n",
       "      <th></th>\n",
       "      <th>COUNTRY</th>\n",
       "      <th>SOURCE</th>\n",
       "      <th>SEX</th>\n",
       "      <th>AGE</th>\n",
       "      <th>PRICE</th>\n",
       "      <th>age_cat</th>\n",
       "      <th>customers_level_based</th>\n",
       "      <th>SEGMENT</th>\n",
       "    </tr>\n",
       "  </thead>\n",
       "  <tbody>\n",
       "    <tr>\n",
       "      <th>0</th>\n",
       "      <td>bra</td>\n",
       "      <td>android</td>\n",
       "      <td>male</td>\n",
       "      <td>46</td>\n",
       "      <td>59.0</td>\n",
       "      <td>41_66</td>\n",
       "      <td>BRA_ANDROID_MALE_41_66</td>\n",
       "      <td>A</td>\n",
       "    </tr>\n",
       "    <tr>\n",
       "      <th>1</th>\n",
       "      <td>usa</td>\n",
       "      <td>android</td>\n",
       "      <td>male</td>\n",
       "      <td>36</td>\n",
       "      <td>59.0</td>\n",
       "      <td>31_40</td>\n",
       "      <td>USA_ANDROID_MALE_31_40</td>\n",
       "      <td>A</td>\n",
       "    </tr>\n",
       "    <tr>\n",
       "      <th>2</th>\n",
       "      <td>fra</td>\n",
       "      <td>android</td>\n",
       "      <td>female</td>\n",
       "      <td>24</td>\n",
       "      <td>59.0</td>\n",
       "      <td>24_30</td>\n",
       "      <td>FRA_ANDROID_FEMALE_24_30</td>\n",
       "      <td>A</td>\n",
       "    </tr>\n",
       "    <tr>\n",
       "      <th>3</th>\n",
       "      <td>usa</td>\n",
       "      <td>ios</td>\n",
       "      <td>male</td>\n",
       "      <td>32</td>\n",
       "      <td>54.0</td>\n",
       "      <td>31_40</td>\n",
       "      <td>USA_IOS_MALE_31_40</td>\n",
       "      <td>A</td>\n",
       "    </tr>\n",
       "    <tr>\n",
       "      <th>4</th>\n",
       "      <td>deu</td>\n",
       "      <td>android</td>\n",
       "      <td>female</td>\n",
       "      <td>36</td>\n",
       "      <td>49.0</td>\n",
       "      <td>31_40</td>\n",
       "      <td>DEU_ANDROID_FEMALE_31_40</td>\n",
       "      <td>A</td>\n",
       "    </tr>\n",
       "  </tbody>\n",
       "</table>\n",
       "</div>"
      ],
      "text/plain": [
       "  COUNTRY   SOURCE     SEX  AGE  PRICE age_cat     customers_level_based  \\\n",
       "0     bra  android    male   46   59.0   41_66    BRA_ANDROID_MALE_41_66   \n",
       "1     usa  android    male   36   59.0   31_40    USA_ANDROID_MALE_31_40   \n",
       "2     fra  android  female   24   59.0   24_30  FRA_ANDROID_FEMALE_24_30   \n",
       "3     usa      ios    male   32   54.0   31_40        USA_IOS_MALE_31_40   \n",
       "4     deu  android  female   36   49.0   31_40  DEU_ANDROID_FEMALE_31_40   \n",
       "\n",
       "  SEGMENT  \n",
       "0       A  \n",
       "1       A  \n",
       "2       A  \n",
       "3       A  \n",
       "4       A  "
      ]
     },
     "execution_count": 26,
     "metadata": {},
     "output_type": "execute_result"
    }
   ],
   "source": [
    "agg_df[\"SEGMENT\"] = pd.qcut(agg_df[\"PRICE\"], 4, labels=[\"D\", \"C\", \"B\", \"A\"])\n",
    "agg_df.head()"
   ]
  },
  {
   "cell_type": "code",
   "execution_count": 27,
   "id": "cb7c55be",
   "metadata": {
    "execution": {
     "iopub.execute_input": "2024-09-05T12:36:19.789672Z",
     "iopub.status.busy": "2024-09-05T12:36:19.789170Z",
     "iopub.status.idle": "2024-09-05T12:36:19.800563Z",
     "shell.execute_reply": "2024-09-05T12:36:19.799336Z"
    },
    "papermill": {
     "duration": 0.037001,
     "end_time": "2024-09-05T12:36:19.803187",
     "exception": false,
     "start_time": "2024-09-05T12:36:19.766186",
     "status": "completed"
    },
    "tags": []
   },
   "outputs": [
    {
     "data": {
      "text/plain": [
       "SEGMENT\n",
       "C    95\n",
       "D    87\n",
       "A    85\n",
       "B    81\n",
       "Name: count, dtype: int64"
      ]
     },
     "execution_count": 27,
     "metadata": {},
     "output_type": "execute_result"
    }
   ],
   "source": [
    "agg_df[\"SEGMENT\"].value_counts()"
   ]
  },
  {
   "cell_type": "code",
   "execution_count": 28,
   "id": "bb04dd66",
   "metadata": {
    "execution": {
     "iopub.execute_input": "2024-09-05T12:36:19.849724Z",
     "iopub.status.busy": "2024-09-05T12:36:19.848678Z",
     "iopub.status.idle": "2024-09-05T12:36:19.874914Z",
     "shell.execute_reply": "2024-09-05T12:36:19.873584Z"
    },
    "papermill": {
     "duration": 0.052198,
     "end_time": "2024-09-05T12:36:19.877631",
     "exception": false,
     "start_time": "2024-09-05T12:36:19.825433",
     "status": "completed"
    },
    "tags": []
   },
   "outputs": [
    {
     "data": {
      "text/html": [
       "<div>\n",
       "<style scoped>\n",
       "    .dataframe tbody tr th:only-of-type {\n",
       "        vertical-align: middle;\n",
       "    }\n",
       "\n",
       "    .dataframe tbody tr th {\n",
       "        vertical-align: top;\n",
       "    }\n",
       "\n",
       "    .dataframe thead tr th {\n",
       "        text-align: left;\n",
       "    }\n",
       "\n",
       "    .dataframe thead tr:last-of-type th {\n",
       "        text-align: right;\n",
       "    }\n",
       "</style>\n",
       "<table border=\"1\" class=\"dataframe\">\n",
       "  <thead>\n",
       "    <tr>\n",
       "      <th></th>\n",
       "      <th colspan=\"3\" halign=\"left\">PRICE</th>\n",
       "    </tr>\n",
       "    <tr>\n",
       "      <th></th>\n",
       "      <th>mean</th>\n",
       "      <th>max</th>\n",
       "      <th>sum</th>\n",
       "    </tr>\n",
       "    <tr>\n",
       "      <th>SEGMENT</th>\n",
       "      <th></th>\n",
       "      <th></th>\n",
       "      <th></th>\n",
       "    </tr>\n",
       "  </thead>\n",
       "  <tbody>\n",
       "    <tr>\n",
       "      <th>D</th>\n",
       "      <td>27.302596</td>\n",
       "      <td>31.105263</td>\n",
       "      <td>2375.325850</td>\n",
       "    </tr>\n",
       "    <tr>\n",
       "      <th>C</th>\n",
       "      <td>32.933339</td>\n",
       "      <td>34.000000</td>\n",
       "      <td>3128.667165</td>\n",
       "    </tr>\n",
       "    <tr>\n",
       "      <th>B</th>\n",
       "      <td>35.436170</td>\n",
       "      <td>37.000000</td>\n",
       "      <td>2870.329792</td>\n",
       "    </tr>\n",
       "    <tr>\n",
       "      <th>A</th>\n",
       "      <td>41.434736</td>\n",
       "      <td>59.000000</td>\n",
       "      <td>3521.952577</td>\n",
       "    </tr>\n",
       "  </tbody>\n",
       "</table>\n",
       "</div>"
      ],
      "text/plain": [
       "             PRICE                        \n",
       "              mean        max          sum\n",
       "SEGMENT                                   \n",
       "D        27.302596  31.105263  2375.325850\n",
       "C        32.933339  34.000000  3128.667165\n",
       "B        35.436170  37.000000  2870.329792\n",
       "A        41.434736  59.000000  3521.952577"
      ]
     },
     "execution_count": 28,
     "metadata": {},
     "output_type": "execute_result"
    }
   ],
   "source": [
    "agg_df.groupby(\"SEGMENT\", observed=False).agg({\"PRICE\": [\"mean\", \"max\", \"sum\"]})"
   ]
  },
  {
   "cell_type": "markdown",
   "id": "86f05507",
   "metadata": {
    "papermill": {
     "duration": 0.021591,
     "end_time": "2024-09-05T12:36:19.921287",
     "exception": false,
     "start_time": "2024-09-05T12:36:19.899696",
     "status": "completed"
    },
    "tags": []
   },
   "source": [
    "## **GÖREV-8:** Yeni gelen müşterileri sınıflandırıp, ne kadar gelir getirebileceklerini tahmin ediniz."
   ]
  },
  {
   "cell_type": "markdown",
   "id": "27ec5487",
   "metadata": {
    "papermill": {
     "duration": 0.022211,
     "end_time": "2024-09-05T12:36:19.966118",
     "exception": false,
     "start_time": "2024-09-05T12:36:19.943907",
     "status": "completed"
    },
    "tags": []
   },
   "source": [
    "* #### 33 yaşında ANDROID kullanan bir Türk kadını hangi segmente aittir ve ortalama ne kadar gelir kazandırması beklenir?\n",
    "*  #### 35 yaşında IOS kullanan bir Fransız kadını hangi segmente aittir ve ortalama ne kadar gelir kazandırması beklenir?"
   ]
  },
  {
   "cell_type": "code",
   "execution_count": 29,
   "id": "351d8c2e",
   "metadata": {
    "execution": {
     "iopub.execute_input": "2024-09-05T12:36:20.013420Z",
     "iopub.status.busy": "2024-09-05T12:36:20.012475Z",
     "iopub.status.idle": "2024-09-05T12:36:20.032629Z",
     "shell.execute_reply": "2024-09-05T12:36:20.031254Z"
    },
    "papermill": {
     "duration": 0.046713,
     "end_time": "2024-09-05T12:36:20.035541",
     "exception": false,
     "start_time": "2024-09-05T12:36:19.988828",
     "status": "completed"
    },
    "tags": []
   },
   "outputs": [
    {
     "data": {
      "text/html": [
       "<div>\n",
       "<style scoped>\n",
       "    .dataframe tbody tr th:only-of-type {\n",
       "        vertical-align: middle;\n",
       "    }\n",
       "\n",
       "    .dataframe tbody tr th {\n",
       "        vertical-align: top;\n",
       "    }\n",
       "\n",
       "    .dataframe thead th {\n",
       "        text-align: right;\n",
       "    }\n",
       "</style>\n",
       "<table border=\"1\" class=\"dataframe\">\n",
       "  <thead>\n",
       "    <tr style=\"text-align: right;\">\n",
       "      <th></th>\n",
       "      <th>COUNTRY</th>\n",
       "      <th>SOURCE</th>\n",
       "      <th>SEX</th>\n",
       "      <th>AGE</th>\n",
       "      <th>PRICE</th>\n",
       "      <th>age_cat</th>\n",
       "      <th>customers_level_based</th>\n",
       "      <th>SEGMENT</th>\n",
       "    </tr>\n",
       "  </thead>\n",
       "  <tbody>\n",
       "    <tr>\n",
       "      <th>18</th>\n",
       "      <td>tur</td>\n",
       "      <td>android</td>\n",
       "      <td>female</td>\n",
       "      <td>32</td>\n",
       "      <td>43.000000</td>\n",
       "      <td>31_40</td>\n",
       "      <td>TUR_ANDROID_FEMALE_31_40</td>\n",
       "      <td>A</td>\n",
       "    </tr>\n",
       "    <tr>\n",
       "      <th>35</th>\n",
       "      <td>tur</td>\n",
       "      <td>android</td>\n",
       "      <td>female</td>\n",
       "      <td>31</td>\n",
       "      <td>40.666667</td>\n",
       "      <td>31_40</td>\n",
       "      <td>TUR_ANDROID_FEMALE_31_40</td>\n",
       "      <td>A</td>\n",
       "    </tr>\n",
       "  </tbody>\n",
       "</table>\n",
       "</div>"
      ],
      "text/plain": [
       "   COUNTRY   SOURCE     SEX  AGE      PRICE age_cat     customers_level_based  \\\n",
       "18     tur  android  female   32  43.000000   31_40  TUR_ANDROID_FEMALE_31_40   \n",
       "35     tur  android  female   31  40.666667   31_40  TUR_ANDROID_FEMALE_31_40   \n",
       "\n",
       "   SEGMENT  \n",
       "18       A  \n",
       "35       A  "
      ]
     },
     "execution_count": 29,
     "metadata": {},
     "output_type": "execute_result"
    }
   ],
   "source": [
    "new_user_1 = \"TUR_ANDROID_FEMALE_31_40\"\n",
    "agg_df[agg_df[\"customers_level_based\"] == new_user_1]"
   ]
  },
  {
   "cell_type": "code",
   "execution_count": 30,
   "id": "af912cdf",
   "metadata": {
    "execution": {
     "iopub.execute_input": "2024-09-05T12:36:20.081740Z",
     "iopub.status.busy": "2024-09-05T12:36:20.081278Z",
     "iopub.status.idle": "2024-09-05T12:36:20.097769Z",
     "shell.execute_reply": "2024-09-05T12:36:20.096434Z"
    },
    "papermill": {
     "duration": 0.042508,
     "end_time": "2024-09-05T12:36:20.100371",
     "exception": false,
     "start_time": "2024-09-05T12:36:20.057863",
     "status": "completed"
    },
    "tags": []
   },
   "outputs": [
    {
     "data": {
      "text/html": [
       "<div>\n",
       "<style scoped>\n",
       "    .dataframe tbody tr th:only-of-type {\n",
       "        vertical-align: middle;\n",
       "    }\n",
       "\n",
       "    .dataframe tbody tr th {\n",
       "        vertical-align: top;\n",
       "    }\n",
       "\n",
       "    .dataframe thead th {\n",
       "        text-align: right;\n",
       "    }\n",
       "</style>\n",
       "<table border=\"1\" class=\"dataframe\">\n",
       "  <thead>\n",
       "    <tr style=\"text-align: right;\">\n",
       "      <th></th>\n",
       "      <th>COUNTRY</th>\n",
       "      <th>SOURCE</th>\n",
       "      <th>SEX</th>\n",
       "      <th>AGE</th>\n",
       "      <th>PRICE</th>\n",
       "      <th>age_cat</th>\n",
       "      <th>customers_level_based</th>\n",
       "      <th>SEGMENT</th>\n",
       "    </tr>\n",
       "  </thead>\n",
       "  <tbody>\n",
       "    <tr>\n",
       "      <th>208</th>\n",
       "      <td>fra</td>\n",
       "      <td>ios</td>\n",
       "      <td>female</td>\n",
       "      <td>40</td>\n",
       "      <td>33.000000</td>\n",
       "      <td>31_40</td>\n",
       "      <td>FRA_IOS_FEMALE_31_40</td>\n",
       "      <td>C</td>\n",
       "    </tr>\n",
       "    <tr>\n",
       "      <th>221</th>\n",
       "      <td>fra</td>\n",
       "      <td>ios</td>\n",
       "      <td>female</td>\n",
       "      <td>31</td>\n",
       "      <td>32.636364</td>\n",
       "      <td>31_40</td>\n",
       "      <td>FRA_IOS_FEMALE_31_40</td>\n",
       "      <td>C</td>\n",
       "    </tr>\n",
       "  </tbody>\n",
       "</table>\n",
       "</div>"
      ],
      "text/plain": [
       "    COUNTRY SOURCE     SEX  AGE      PRICE age_cat customers_level_based  \\\n",
       "208     fra    ios  female   40  33.000000   31_40  FRA_IOS_FEMALE_31_40   \n",
       "221     fra    ios  female   31  32.636364   31_40  FRA_IOS_FEMALE_31_40   \n",
       "\n",
       "    SEGMENT  \n",
       "208       C  \n",
       "221       C  "
      ]
     },
     "execution_count": 30,
     "metadata": {},
     "output_type": "execute_result"
    }
   ],
   "source": [
    "new_user_2 = \"FRA_IOS_FEMALE_31_40\"\n",
    "agg_df[agg_df[\"customers_level_based\"] == new_user_2]"
   ]
  }
 ],
 "metadata": {
  "kaggle": {
   "accelerator": "none",
   "dataSources": [
    {
     "datasetId": 5649463,
     "sourceId": 9325357,
     "sourceType": "datasetVersion"
    }
   ],
   "dockerImageVersionId": 30761,
   "isGpuEnabled": false,
   "isInternetEnabled": true,
   "language": "python",
   "sourceType": "notebook"
  },
  "kernelspec": {
   "display_name": "Python 3",
   "language": "python",
   "name": "python3"
  },
  "language_info": {
   "codemirror_mode": {
    "name": "ipython",
    "version": 3
   },
   "file_extension": ".py",
   "mimetype": "text/x-python",
   "name": "python",
   "nbconvert_exporter": "python",
   "pygments_lexer": "ipython3",
   "version": "3.10.14"
  },
  "papermill": {
   "default_parameters": {},
   "duration": 7.670021,
   "end_time": "2024-09-05T12:36:20.645723",
   "environment_variables": {},
   "exception": null,
   "input_path": "__notebook__.ipynb",
   "output_path": "__notebook__.ipynb",
   "parameters": {},
   "start_time": "2024-09-05T12:36:12.975702",
   "version": "2.6.0"
  }
 },
 "nbformat": 4,
 "nbformat_minor": 5
}
